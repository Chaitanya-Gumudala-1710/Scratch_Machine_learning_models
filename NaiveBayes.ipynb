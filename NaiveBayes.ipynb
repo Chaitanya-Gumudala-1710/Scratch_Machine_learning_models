{
 "cells": [
  {
   "cell_type": "markdown",
   "metadata": {},
   "source": [
    "# Naive Bayes"
   ]
  },
  {
   "cell_type": "markdown",
   "metadata": {},
   "source": [
    "It is a probabilistic classifier based on applying Bayes theorem with strong independence assumptions between the features"
   ]
  },
  {
   "cell_type": "markdown",
   "metadata": {},
   "source": [
    "$$P(A|B) = \\frac{P(B|A) * P(A)}{P(B)}$$\n",
    "\n",
    "$$P(y|X) = \\frac{P(X|y) * P(y)}{P(X)}$$\n",
    "\n",
    "$$P(y|X) = \\frac{P(x_{1}|Y) * P(x_{2}|Y) .... P(x_{n}|Y)*P(Y)}{P(X)}$$\n",
    "\n",
    "$$y = P(y|X) = argmax_{y} P(y|X)$$\n",
    "\n",
    "$$y = argmax_{y} \\log(P(x_{1}|y)) + \\log(P(x_{2}|y)) + .... + \\log(P(x_{n}|y)) + \\log(P(y))$$\n",
    "\n",
    "P(y) = prior probability --> frequency of each class\n",
    "\n",
    "$P(x_{i}|y)$ = class conditional probability --> Model with Gaussian\n",
    "\n",
    "$$P(x_{i}|y) = \\frac{1}{\\sqrt{2\\pi\\sigma^{2}}}*\\exp({-\\frac{(x_{i} - \\mu_{y})^{2}}{2\\sigma_{y}^{2}}})$$"
   ]
  },
  {
   "cell_type": "markdown",
   "metadata": {},
   "source": [
    "Training:\n",
    "* Calculate mean, variance, and prior for each class\n",
    "Predicitons:\n",
    "* Calculate posterior for each class with $y = argmax_{y} \\log(P(x_{1}|y)) + \\log(P(x_{2}|y)) + .... + \\log(P(x_{n}|y)) + \\log(P(y))$ and Gaussian formula\n",
    "* Choose class with highest posterior probability\n"
   ]
  },
  {
   "cell_type": "code",
   "execution_count": 1,
   "metadata": {},
   "outputs": [],
   "source": [
    "import numpy as np\n",
    "from sklearn.model_selection import train_test_split\n",
    "from sklearn import datasets"
   ]
  },
  {
   "cell_type": "code",
   "execution_count": 2,
   "metadata": {},
   "outputs": [],
   "source": [
    "class NaiveBayes:\n",
    "    def fit(self, X, y):\n",
    "        \"\"\"\n",
    "        Fit the Naive Bayes classifier to the training data.\n",
    "\n",
    "        Parameters:\n",
    "        - X: The input features of the training data.\n",
    "        - y: The target values of the training data.\n",
    "        \"\"\"\n",
    "        n_samples, n_features = X.shape\n",
    "        self.classes = np.unique(y)\n",
    "        n_classes = len(self.classes)\n",
    "\n",
    "        self.mean = np.zeros((n_classes, n_features), dtype=np.float64)\n",
    "        self.var = np.zeros((n_classes, n_features), dtype=np.float64)\n",
    "        self.priors = np.zeros((n_classes, n_features), dtype=np.float64)\n",
    "\n",
    "        for idx, c in enumerate(self.classes):\n",
    "            X_c = X[y == c]\n",
    "            self.mean[idx, :] = X_c.mean(axis=0)\n",
    "            self.var[idx, :] = X_c.var(axis=0)\n",
    "            self.priors[idx] = X_c.shape[0] / float(n_samples)\n",
    "\n",
    "    def predict(self, X):\n",
    "        \"\"\"\n",
    "        Make predictions for the given input data.\n",
    "\n",
    "        Parameters:\n",
    "        - X: The input features of the data points to predict.\n",
    "\n",
    "        Returns:\n",
    "        - y_pred: The predicted target values.\n",
    "        \"\"\"\n",
    "        y_pred = [self.predictions(x) for x in X]\n",
    "        return np.array(y_pred)\n",
    "\n",
    "    def predictions(self, x):\n",
    "        \"\"\"\n",
    "        Predict the class label for a single input sample.\n",
    "\n",
    "        Parameters:\n",
    "        - x: The input features of a single data point.\n",
    "\n",
    "        Returns:\n",
    "        - predicted_class: The predicted class label for the input sample.\n",
    "        \"\"\"\n",
    "        posteriors = []\n",
    "        for idx, c in enumerate(self.classes):\n",
    "            prior = np.log(self.priors[idx])\n",
    "            posterior = np.sum(np.log(self.pdf(idx, x)))\n",
    "            posteriors.append(posterior)\n",
    "        predicted_class = self.classes[np.argmax(posteriors)]\n",
    "        return predicted_class\n",
    "    \n",
    "    def pdf(self, class_idx, x):\n",
    "        \"\"\"\n",
    "        Compute the probability density function for a feature given a class.\n",
    "\n",
    "        Parameters:\n",
    "        - class_idx: The index of the class.\n",
    "        - x: The input feature value.\n",
    "\n",
    "        Returns:\n",
    "        - probability: The computed probability density.\n",
    "        \"\"\"\n",
    "        mean = self.mean[class_idx]\n",
    "        var = self.var[class_idx]\n",
    "        numerator = np.exp(-((x - mean) ** 2) / (2 * var))\n",
    "        denominator = np.sqrt(2 * np.pi * var)\n",
    "        return numerator / denominator"
   ]
  },
  {
   "cell_type": "code",
   "execution_count": 3,
   "metadata": {},
   "outputs": [],
   "source": [
    "def accuracy(y_true, y_pred):\n",
    "    accuracy = np.sum(y_true == y_pred) / len(y_true)\n",
    "    return accuracy"
   ]
  },
  {
   "cell_type": "code",
   "execution_count": 4,
   "metadata": {},
   "outputs": [
    {
     "name": "stdout",
     "output_type": "stream",
     "text": [
      "Naive Bayes classification accuracy 0.965\n"
     ]
    }
   ],
   "source": [
    "X, y = datasets.make_classification(\n",
    "    n_samples=1000, n_features=10, n_classes=2, random_state=123\n",
    ")\n",
    "X_train, X_test, y_train, y_test = train_test_split(\n",
    "    X, y, test_size=0.2, random_state=123\n",
    ")\n",
    "\n",
    "nb = NaiveBayes()\n",
    "nb.fit(X_train, y_train)\n",
    "predictions = nb.predict(X_test)\n",
    "\n",
    "print(\"Naive Bayes classification accuracy\", accuracy(y_test, predictions))"
   ]
  }
 ],
 "metadata": {
  "kernelspec": {
   "display_name": "Python 3",
   "language": "python",
   "name": "python3"
  },
  "language_info": {
   "codemirror_mode": {
    "name": "ipython",
    "version": 3
   },
   "file_extension": ".py",
   "mimetype": "text/x-python",
   "name": "python",
   "nbconvert_exporter": "python",
   "pygments_lexer": "ipython3",
   "version": "3.8.10"
  },
  "orig_nbformat": 4
 },
 "nbformat": 4,
 "nbformat_minor": 2
}
