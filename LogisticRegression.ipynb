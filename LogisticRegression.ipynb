{
 "cells": [
  {
   "cell_type": "markdown",
   "metadata": {},
   "source": [
    "# Logistic regression"
   ]
  },
  {
   "cell_type": "markdown",
   "metadata": {},
   "source": [
    "Sigmoid function:\n",
    "$$\\frac{1}{1 + e^{-mx + c}}$$\n",
    "\n",
    "Cross entropy:\n",
    "$$\\frac{1}{N} \\sum_{i=1} ^{n}[y^{i}\\log(h_{\\theta}(x^{i})) + (1 - y^{i})\\log(1 - h_{\\theta}(x^{i})]$$"
   ]
  },
  {
   "cell_type": "markdown",
   "metadata": {},
   "source": [
    "Training:\n",
    "* Initialize weights as zero\n",
    "* Initialize bias as zero\n",
    "\n",
    "Given a data point:\n",
    "* Predict result by using $\\frac{1}{1 + e^{-mx + c}}$\n",
    "* Calculate error\n",
    "* Use gradient descent to figure out new weights and bias values\n",
    "* Repeat n times\n",
    "\n",
    "Testing: <br>\n",
    "* Given a data point: Put in the values from the data point into the equation $\\frac{1}{1 + e^{-mx + c}}$\n",
    "* Choose the label based on the probability"
   ]
  },
  {
   "cell_type": "code",
   "execution_count": 1,
   "metadata": {},
   "outputs": [],
   "source": [
    "import numpy as np\n",
    "from sklearn.model_selection import train_test_split\n",
    "from sklearn import datasets\n",
    "import matplotlib.pyplot as plt"
   ]
  },
  {
   "cell_type": "code",
   "execution_count": 2,
   "metadata": {},
   "outputs": [],
   "source": [
    "def sigmoid(x):\n",
    "    \"\"\"\n",
    "    Compute the sigmoid function for a given input x.\n",
    "\n",
    "    Parameters:\n",
    "    - x: The input value.\n",
    "\n",
    "    Returns:\n",
    "    - result: The sigmoid value of the input.\n",
    "    \"\"\"\n",
    "    return 1 / (1 + np.exp(-x))\n",
    "\n",
    "class LogisticRegression:\n",
    "    def __init__(self, learning_rate, number_of_iterations):\n",
    "        \"\"\"\n",
    "        Initialize the logistic regression model with a learning rate and number of iterations.\n",
    "\n",
    "        Parameters:\n",
    "        - learning_rate: The learning rate for gradient descent.\n",
    "        - number_of_iterations: The number of iterations for gradient descent.\n",
    "        \"\"\"\n",
    "        self.learning_rate = learning_rate\n",
    "        self.number_of_iterations = number_of_iterations\n",
    "        self.weights = None\n",
    "        self.bias = None\n",
    "\n",
    "    def fit(self, X, y):\n",
    "        \"\"\"\n",
    "        Fit the logistic regression model to the training data.\n",
    "\n",
    "        Parameters:\n",
    "        - X: The input features of the training data.\n",
    "        - y: The target values of the training data.\n",
    "        \"\"\"\n",
    "        n_samples, n_features = X.shape\n",
    "        self.weights = np.zeros(n_features)\n",
    "        self.bias = 0\n",
    "        for _ in range(self.number_of_iterations):\n",
    "            # Perform gradient descent for the specified number of iterations\n",
    "            linear_predictions = np.dot(X, self.weights) + self.bias\n",
    "            # Calculate the linear predictions based on the current model parameters\n",
    "            predictions = sigmoid(linear_predictions)\n",
    "            # Apply the sigmoid function to obtain probabilities\n",
    "            dw = (1/n_samples) * np.dot(X.T, (predictions-y))\n",
    "            # Calculate the derivative of the cost function with respect to the weights\n",
    "            db = (1/n_samples) * np.sum(predictions - y)\n",
    "            # Calculate the derivative of the cost function with respect to the bias\n",
    "            self.weights = self.weights - self.learning_rate * dw\n",
    "            # Update the weights using the gradient descent update rule\n",
    "            self.bias = self.bias - self.learning_rate * db\n",
    "            # Update the bias using the gradient descent update rule\n",
    "\n",
    "    def predict(self, X):\n",
    "        \"\"\"\n",
    "        Make predictions for the given input data.\n",
    "\n",
    "        Parameters:\n",
    "        - X: The input features of the data points to predict.\n",
    "\n",
    "        Returns:\n",
    "        - class_predictions: The predicted class labels.\n",
    "        \"\"\"\n",
    "        linear_predictions = np.dot(X, self.weights) + self.bias\n",
    "        # Calculate the linear predictions based on the learned model parameters\n",
    "        y_predictions = sigmoid(linear_predictions)\n",
    "        # Apply the sigmoid function to obtain probabilities\n",
    "        class_predictions = [0 if y <= 0.5 else 1 for y in y_predictions]\n",
    "        # Convert probabilities to class predictions using a threshold of 0.5\n",
    "        return class_predictions"
   ]
  },
  {
   "cell_type": "code",
   "execution_count": 3,
   "metadata": {},
   "outputs": [],
   "source": [
    "bc = datasets.load_breast_cancer()\n",
    "X, y = bc.data, bc.target\n",
    "X_train, X_test, y_train, y_test = train_test_split(X, y, test_size=0.2, random_state=1234)"
   ]
  },
  {
   "cell_type": "code",
   "execution_count": 4,
   "metadata": {},
   "outputs": [
    {
     "name": "stderr",
     "output_type": "stream",
     "text": [
      "/tmp/ipykernel_8269/4148568995.py:11: RuntimeWarning: overflow encountered in exp\n",
      "  return 1 / (1 + np.exp(-x))\n"
     ]
    }
   ],
   "source": [
    "logistic_regression = LogisticRegression(0.01, 1000)\n",
    "logistic_regression.fit(X_train, y_train)\n",
    "y_prediction = logistic_regression.predict(X_test)"
   ]
  },
  {
   "cell_type": "code",
   "execution_count": 5,
   "metadata": {},
   "outputs": [],
   "source": [
    "def accuracy(y_prediction, y_test):\n",
    "    return np.sum(y_prediction == y_test)/len(y_test)"
   ]
  },
  {
   "cell_type": "code",
   "execution_count": 6,
   "metadata": {},
   "outputs": [
    {
     "name": "stdout",
     "output_type": "stream",
     "text": [
      "0.9210526315789473\n"
     ]
    }
   ],
   "source": [
    "accuracy = accuracy(y_prediction, y_test)\n",
    "print(accuracy)"
   ]
  }
 ],
 "metadata": {
  "kernelspec": {
   "display_name": "Python 3",
   "language": "python",
   "name": "python3"
  },
  "language_info": {
   "codemirror_mode": {
    "name": "ipython",
    "version": 3
   },
   "file_extension": ".py",
   "mimetype": "text/x-python",
   "name": "python",
   "nbconvert_exporter": "python",
   "pygments_lexer": "ipython3",
   "version": "3.8.10"
  },
  "orig_nbformat": 4
 },
 "nbformat": 4,
 "nbformat_minor": 2
}
